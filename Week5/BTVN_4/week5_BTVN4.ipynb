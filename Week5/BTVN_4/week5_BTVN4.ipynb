{
 "cells": [
  {
   "cell_type": "code",
   "execution_count": 45,
   "id": "943ed9fc-d9f7-4b99-9710-fa870d25af42",
   "metadata": {},
   "outputs": [],
   "source": [
    "import pandas as pd \n",
    "import numpy as np"
   ]
  },
  {
   "cell_type": "code",
   "execution_count": 2,
   "id": "71737d4b-4074-46e7-9c26-92dc8c77b7b5",
   "metadata": {},
   "outputs": [],
   "source": [
    "data = pd.read_csv(\"D:/AI - Exercise/VietAI-x-CoderSchool/Week5/BTVN_4/ds_salaries.csv\")"
   ]
  },
  {
   "cell_type": "code",
   "execution_count": 3,
   "id": "7dabed53-08d2-4674-94b3-68a9bc719677",
   "metadata": {},
   "outputs": [
    {
     "data": {
      "text/html": [
       "<div>\n",
       "<style scoped>\n",
       "    .dataframe tbody tr th:only-of-type {\n",
       "        vertical-align: middle;\n",
       "    }\n",
       "\n",
       "    .dataframe tbody tr th {\n",
       "        vertical-align: top;\n",
       "    }\n",
       "\n",
       "    .dataframe thead th {\n",
       "        text-align: right;\n",
       "    }\n",
       "</style>\n",
       "<table border=\"1\" class=\"dataframe\">\n",
       "  <thead>\n",
       "    <tr style=\"text-align: right;\">\n",
       "      <th></th>\n",
       "      <th>Unnamed: 0</th>\n",
       "      <th>work_year</th>\n",
       "      <th>experience_level</th>\n",
       "      <th>employment_type</th>\n",
       "      <th>job_title</th>\n",
       "      <th>salary</th>\n",
       "      <th>salary_currency</th>\n",
       "      <th>salary_in_usd</th>\n",
       "      <th>employee_residence</th>\n",
       "      <th>remote_ratio</th>\n",
       "      <th>company_location</th>\n",
       "      <th>company_size</th>\n",
       "    </tr>\n",
       "  </thead>\n",
       "  <tbody>\n",
       "    <tr>\n",
       "      <th>0</th>\n",
       "      <td>0</td>\n",
       "      <td>2020</td>\n",
       "      <td>MI</td>\n",
       "      <td>FT</td>\n",
       "      <td>Data Scientist</td>\n",
       "      <td>70000</td>\n",
       "      <td>EUR</td>\n",
       "      <td>79833</td>\n",
       "      <td>DE</td>\n",
       "      <td>0</td>\n",
       "      <td>DE</td>\n",
       "      <td>L</td>\n",
       "    </tr>\n",
       "    <tr>\n",
       "      <th>1</th>\n",
       "      <td>1</td>\n",
       "      <td>2020</td>\n",
       "      <td>SE</td>\n",
       "      <td>FT</td>\n",
       "      <td>Machine Learning Scientist</td>\n",
       "      <td>260000</td>\n",
       "      <td>USD</td>\n",
       "      <td>260000</td>\n",
       "      <td>JP</td>\n",
       "      <td>0</td>\n",
       "      <td>JP</td>\n",
       "      <td>S</td>\n",
       "    </tr>\n",
       "    <tr>\n",
       "      <th>2</th>\n",
       "      <td>2</td>\n",
       "      <td>2020</td>\n",
       "      <td>SE</td>\n",
       "      <td>FT</td>\n",
       "      <td>Big Data Engineer</td>\n",
       "      <td>85000</td>\n",
       "      <td>GBP</td>\n",
       "      <td>109024</td>\n",
       "      <td>GB</td>\n",
       "      <td>50</td>\n",
       "      <td>GB</td>\n",
       "      <td>M</td>\n",
       "    </tr>\n",
       "    <tr>\n",
       "      <th>3</th>\n",
       "      <td>3</td>\n",
       "      <td>2020</td>\n",
       "      <td>MI</td>\n",
       "      <td>FT</td>\n",
       "      <td>Product Data Analyst</td>\n",
       "      <td>20000</td>\n",
       "      <td>USD</td>\n",
       "      <td>20000</td>\n",
       "      <td>HN</td>\n",
       "      <td>0</td>\n",
       "      <td>HN</td>\n",
       "      <td>S</td>\n",
       "    </tr>\n",
       "    <tr>\n",
       "      <th>4</th>\n",
       "      <td>4</td>\n",
       "      <td>2020</td>\n",
       "      <td>SE</td>\n",
       "      <td>FT</td>\n",
       "      <td>Machine Learning Engineer</td>\n",
       "      <td>150000</td>\n",
       "      <td>USD</td>\n",
       "      <td>150000</td>\n",
       "      <td>US</td>\n",
       "      <td>50</td>\n",
       "      <td>US</td>\n",
       "      <td>L</td>\n",
       "    </tr>\n",
       "  </tbody>\n",
       "</table>\n",
       "</div>"
      ],
      "text/plain": [
       "   Unnamed: 0  work_year experience_level employment_type  \\\n",
       "0           0       2020               MI              FT   \n",
       "1           1       2020               SE              FT   \n",
       "2           2       2020               SE              FT   \n",
       "3           3       2020               MI              FT   \n",
       "4           4       2020               SE              FT   \n",
       "\n",
       "                    job_title  salary salary_currency  salary_in_usd  \\\n",
       "0              Data Scientist   70000             EUR          79833   \n",
       "1  Machine Learning Scientist  260000             USD         260000   \n",
       "2           Big Data Engineer   85000             GBP         109024   \n",
       "3        Product Data Analyst   20000             USD          20000   \n",
       "4   Machine Learning Engineer  150000             USD         150000   \n",
       "\n",
       "  employee_residence  remote_ratio company_location company_size  \n",
       "0                 DE             0               DE            L  \n",
       "1                 JP             0               JP            S  \n",
       "2                 GB            50               GB            M  \n",
       "3                 HN             0               HN            S  \n",
       "4                 US            50               US            L  "
      ]
     },
     "execution_count": 3,
     "metadata": {},
     "output_type": "execute_result"
    }
   ],
   "source": [
    "data.head()"
   ]
  },
  {
   "cell_type": "code",
   "execution_count": 37,
   "id": "c43657ce-9dd4-4abf-80aa-b29604ab72ea",
   "metadata": {},
   "outputs": [
    {
     "data": {
      "text/plain": [
       "'Data Analytics Lead'"
      ]
     },
     "execution_count": 37,
     "metadata": {},
     "output_type": "execute_result"
    }
   ],
   "source": [
    "# Task 1:Job title nào có mức lương trung bình theo USD cao nhất\n",
    "task1 = data.groupby(by=\"job_title\")[\"salary_in_usd\"].mean()\n",
    "task1.idxmax()"
   ]
  },
  {
   "cell_type": "code",
   "execution_count": 53,
   "id": "e69bdf5b-754e-4847-abe2-a5b872fc500f",
   "metadata": {},
   "outputs": [
    {
     "data": {
      "text/plain": [
       "'US'"
      ]
     },
     "execution_count": 53,
     "metadata": {},
     "output_type": "execute_result"
    }
   ],
   "source": [
    "#  Task 2: Data Scientist mang quốc tịch nào có mức lương trung bình cao nhất\n",
    "data_scientist = data[data[\"job_title\"] == \"Data Scientist\"]\n",
    "task2 = data_scientist.groupby(by=\"employee_residence\")[\"salary_in_usd\"].mean()\n",
    "task2.idxmax()"
   ]
  },
  {
   "cell_type": "code",
   "execution_count": 35,
   "id": "44d1f813-1d71-4950-a34e-2cc8df2b9090",
   "metadata": {},
   "outputs": [
    {
     "name": "stdout",
     "output_type": "stream",
     "text": [
      "Nhân sự US: 148955.9 vs Nhân sự ngoại quốc: 79366.84\n"
     ]
    }
   ],
   "source": [
    "# Task 3: Có phải ở USA, nhân sự ngoại quốc nhận được mức lương trung bình cao hơn nhân sự trong nước không\n",
    "company_us = data[data[\"company_location\"] == \"US\"]\n",
    "employee_us = company_us[company_us[\"employee_residence\"] == \"US\"][\"salary_in_usd\"].mean()\n",
    "employee_foreign = company_us[company_us[\"employee_residence\"] != \"US\"][\"salary_in_usd\"].mean()\n",
    "print(f'Nhân sự US: {employee_us} vs Nhân sự ngoại quốc: {employee_foreign}')"
   ]
  },
  {
   "cell_type": "code",
   "execution_count": 7,
   "id": "47119910-36ab-4040-8daa-59a5f7eacb01",
   "metadata": {},
   "outputs": [
    {
     "data": {
      "text/plain": [
       "company_size\n",
       "L    147248.416667\n",
       "M    138352.770833\n",
       "S     75114.666667\n",
       "Name: salary_in_usd, dtype: float64"
      ]
     },
     "execution_count": 7,
     "metadata": {},
     "output_type": "execute_result"
    }
   ],
   "source": [
    "# Task 4: Mức lương trung bình của Data Engineer (SE level) ở các công ty nhỏ (S) và vừa (M) ở USA\n",
    "data_engineer = data[(data[\"job_title\"] == \"Data Engineer\") & (data[\"experience_level\"] == \"SE\")]\n",
    "task4 = data_engineer.groupby(by=\"company_size\")[\"salary_in_usd\"].mean()\n",
    "task4"
   ]
  },
  {
   "cell_type": "code",
   "execution_count": 8,
   "id": "3bd753b5-5dad-4d5e-87ce-938987a121b9",
   "metadata": {},
   "outputs": [
    {
     "data": {
      "text/plain": [
       "experience_level\n",
       "EN     95000.0\n",
       "EX    416000.0\n",
       "MI    120000.0\n",
       "SE    158200.0\n",
       "Name: salary_in_usd, dtype: float64"
      ]
     },
     "execution_count": 8,
     "metadata": {},
     "output_type": "execute_result"
    }
   ],
   "source": [
    "# Task 5: So sánh mức lương của Data Scientist ở USA ở các mức trình độ (experience_level) khác nhau\n",
    "# EX > SE > MI > EN\n",
    "data_scientist_us = data_scientist[data_scientist[\"company_location\"] == \"US\"]\n",
    "task5 = data_scientist_us.groupby(by=\"experience_level\")[\"salary_in_usd\"].median()\n",
    "task5"
   ]
  },
  {
   "cell_type": "code",
   "execution_count": 17,
   "id": "27ce5d52-147c-4509-9bae-661d8528f274",
   "metadata": {},
   "outputs": [
    {
     "name": "stdout",
     "output_type": "stream",
     "text": [
      "7.547169811320755%\n"
     ]
    }
   ],
   "source": [
    "#  Task 6: Nhân sự là người nước ngoài chiếm tỉ lệ bao nhiêu phần trăm ở các công ty lớn ở USA\n",
    "large_company_us = data[(data[\"company_size\"] == \"L\") & (data[\"company_location\"] == \"US\")]\n",
    "employee = large_company_us[large_company_us[\"employee_residence\"] != \"US\"]\n",
    "print(f'{len(employee)*100/len(large_company_us)}%')"
   ]
  },
  {
   "cell_type": "code",
   "execution_count": 41,
   "id": "0bb32e44-4edf-4227-85b3-5e386a8c4c27",
   "metadata": {},
   "outputs": [
    {
     "data": {
      "text/plain": [
       "job_title\n",
       "Financial Data Analyst                450000.0\n",
       "Applied Machine Learning Scientist    423000.0\n",
       "Data Science Manager                  200000.0\n",
       "Name: salary_in_usd, dtype: float64"
      ]
     },
     "execution_count": 41,
     "metadata": {},
     "output_type": "execute_result"
    }
   ],
   "source": [
    "#  Task 7: Tìm ra 3 job title có mức lương trung bình cao nhất ở level MI dành cho nhân sự trong nước\n",
    "data_MI_native = data[(data[\"experience_level\"] == \"MI\") & (data[\"company_location\"] == data[\"employee_residence\"])]\n",
    "task7 = data_MI_native.groupby(by=\"job_title\")[\"salary_in_usd\"].mean().nlargest(3)\n",
    "task7"
   ]
  },
  {
   "cell_type": "code",
   "execution_count": 39,
   "id": "58ed635e-4e83-450c-b6bc-723286455dd5",
   "metadata": {},
   "outputs": [
    {
     "data": {
      "text/plain": [
       "'ML Engineer'"
      ]
     },
     "execution_count": 39,
     "metadata": {},
     "output_type": "execute_result"
    }
   ],
   "source": [
    "# Task 8: Job nào ở Germany (DE) có mức lương trung bình thấp nhất\n",
    "data_de = data[data[\"company_location\"] == \"DE\"]\n",
    "task8 = data_de.groupby(by=\"job_title\")[\"salary_in_usd\"].mean()\n",
    "task8.idxmin()"
   ]
  },
  {
   "cell_type": "code",
   "execution_count": 47,
   "id": "94cbe1d6-c60a-406c-bf25-3bb6ac143b9c",
   "metadata": {},
   "outputs": [
    {
     "data": {
      "text/plain": [
       "'Machine Learning Developer'"
      ]
     },
     "execution_count": 47,
     "metadata": {},
     "output_type": "execute_result"
    }
   ],
   "source": [
    "# Task 9: Job nào có khoảng cách thu nhập giữa SE và MI ít nhất\n",
    "data_SE = data[data[\"experience_level\"] == \"SE\"]\n",
    "data_MI = data[data[\"experience_level\"] == \"MI\"]\n",
    "\n",
    "salary_SE = data_SE.groupby(\"job_title\")[\"salary_in_usd\"].median()\n",
    "salary_MI = data_MI.groupby(\"job_title\")[\"salary_in_usd\"].median()\n",
    "\n",
    "distance = np.absolute(salary_SE-salary_MI)\n",
    "distance.idxmin()"
   ]
  },
  {
   "cell_type": "code",
   "execution_count": 244,
   "id": "51b280b7-64df-45a2-b300-2fbdbf640820",
   "metadata": {},
   "outputs": [
    {
     "data": {
      "text/plain": [
       "set()"
      ]
     },
     "execution_count": 244,
     "metadata": {},
     "output_type": "execute_result"
    }
   ],
   "source": [
    "#Task 10: Job nào có mức lương trung bình đều nằm trong top 5 ở tất cả các level\n",
    "# => Không có job nào tương ứng\n",
    "data_ex_lv = data.groupby(by=[\"job_title\", \"experience_level\"])[\"salary_in_usd\"].mean().unstack()\n",
    "\n",
    "temp = [set(data_ex_lv.nlargest(5,level).index) for level in data_ex_lv.columns]\n",
    "set.intersection(*temp)"
   ]
  },
  {
   "cell_type": "code",
   "execution_count": 119,
   "id": "9a1eeae2-ea72-42f5-bbc9-5f7822ef21e1",
   "metadata": {},
   "outputs": [
    {
     "data": {
      "text/plain": [
       "'Data Engineer'"
      ]
     },
     "execution_count": 119,
     "metadata": {},
     "output_type": "execute_result"
    }
   ],
   "source": [
    "#  Task 11: Job nào có mức chênh lệch thu nhập trung bình giữa EN & EX level lớn nhất (chỉ tính các công ty nhỏ và vừa)\n",
    "data_EN_SM = data[(data[\"experience_level\"] == \"EN\") & (data[\"company_size\"].isin([\"S\",\"M\"]))]\n",
    "data_EX_SM = data[(data[\"experience_level\"] == \"EX\") & (data[\"company_size\"].isin([\"S\",\"M\"]))]\n",
    "\n",
    "salary_job_EN = data_EN_SM.groupby(by=\"job_title\")[\"salary_in_usd\"].mean()\n",
    "salary_job_EX = data_EX_SM.groupby(by=\"job_title\")[\"salary_in_usd\"].mean()\n",
    "distance_11 = np.absolute(salary_job_EN - salary_job_EX)\n",
    "distance_11.idxmax()"
   ]
  },
  {
   "cell_type": "code",
   "execution_count": 127,
   "id": "8fbb8380-6b45-44a7-a05c-f762371aa823",
   "metadata": {},
   "outputs": [
    {
     "data": {
      "text/plain": [
       "'PL'"
      ]
     },
     "execution_count": 127,
     "metadata": {},
     "output_type": "execute_result"
    }
   ],
   "source": [
    "#  Task 12: Nước nào trả lương cao nhất cho nhân sự nước ngoài\n",
    "data_12 = data[data[\"company_location\"] != data[\"employee_residence\"]]\n",
    "task12 = data_12.groupby(by=\"company_location\")[\"salary_in_usd\"].mean()\n",
    "task12.idxmax()"
   ]
  },
  {
   "cell_type": "code",
   "execution_count": 131,
   "id": "ac136c48-19e7-4c47-9c8f-8a97763e6886",
   "metadata": {},
   "outputs": [
    {
     "data": {
      "text/html": [
       "<div>\n",
       "<style scoped>\n",
       "    .dataframe tbody tr th:only-of-type {\n",
       "        vertical-align: middle;\n",
       "    }\n",
       "\n",
       "    .dataframe tbody tr th {\n",
       "        vertical-align: top;\n",
       "    }\n",
       "\n",
       "    .dataframe thead th {\n",
       "        text-align: right;\n",
       "    }\n",
       "</style>\n",
       "<table border=\"1\" class=\"dataframe\">\n",
       "  <thead>\n",
       "    <tr style=\"text-align: right;\">\n",
       "      <th>company_size</th>\n",
       "      <th>L</th>\n",
       "      <th>M</th>\n",
       "      <th>S</th>\n",
       "    </tr>\n",
       "    <tr>\n",
       "      <th>experience_level</th>\n",
       "      <th></th>\n",
       "      <th></th>\n",
       "      <th></th>\n",
       "    </tr>\n",
       "  </thead>\n",
       "  <tbody>\n",
       "    <tr>\n",
       "      <th>EN</th>\n",
       "      <td>72813.241379</td>\n",
       "      <td>50321.800000</td>\n",
       "      <td>62185.310345</td>\n",
       "    </tr>\n",
       "    <tr>\n",
       "      <th>EX</th>\n",
       "      <td>221942.181818</td>\n",
       "      <td>178241.750000</td>\n",
       "      <td>201309.333333</td>\n",
       "    </tr>\n",
       "    <tr>\n",
       "      <th>MI</th>\n",
       "      <td>98030.372093</td>\n",
       "      <td>90091.081633</td>\n",
       "      <td>51159.379310</td>\n",
       "    </tr>\n",
       "    <tr>\n",
       "      <th>SE</th>\n",
       "      <td>147591.013889</td>\n",
       "      <td>137815.596774</td>\n",
       "      <td>116026.727273</td>\n",
       "    </tr>\n",
       "  </tbody>\n",
       "</table>\n",
       "</div>"
      ],
      "text/plain": [
       "company_size                  L              M              S\n",
       "experience_level                                             \n",
       "EN                 72813.241379   50321.800000   62185.310345\n",
       "EX                221942.181818  178241.750000  201309.333333\n",
       "MI                 98030.372093   90091.081633   51159.379310\n",
       "SE                147591.013889  137815.596774  116026.727273"
      ]
     },
     "execution_count": 131,
     "metadata": {},
     "output_type": "execute_result"
    }
   ],
   "source": [
    "#Task 13: Có phải với cùng experience_level, các công ty quy mô càng lớn thì trả lương càng cao không\n",
    "# => Không\n",
    "task13 = data.groupby(by=[\"experience_level\", \"company_size\"])[\"salary_in_usd\"].mean().unstack()\n",
    "task13"
   ]
  },
  {
   "cell_type": "code",
   "execution_count": 137,
   "id": "43f512d3-6530-4cc0-94c1-55fe12b00bdd",
   "metadata": {},
   "outputs": [
    {
     "data": {
      "text/plain": [
       "job_title\n",
       "Data Analytics Lead                         405000.000000\n",
       "Principal Data Engineer                     328333.333333\n",
       "Financial Data Analyst                      275000.000000\n",
       "Principal Data Scientist                    215242.428571\n",
       "Director of Data Science                    195074.000000\n",
       "Data Architect                              177873.909091\n",
       "Applied Data Scientist                      175655.000000\n",
       "Analytics Engineer                          175000.000000\n",
       "Data Specialist                             165000.000000\n",
       "Head of Data                                160162.600000\n",
       "Machine Learning Scientist                  158412.500000\n",
       "Data Science Manager                        158328.500000\n",
       "Director of Data Engineering                156738.000000\n",
       "Head of Data Science                        146718.750000\n",
       "Applied Machine Learning Scientist          142068.750000\n",
       "Lead Data Engineer                          139724.500000\n",
       "Data Analytics Manager                      127134.285714\n",
       "Cloud Data Engineer                         124647.000000\n",
       "Data Engineering Manager                    123227.200000\n",
       "Principal Data Analyst                      122500.000000\n",
       "ML Engineer                                 117504.000000\n",
       "Machine Learning Manager                    117104.000000\n",
       "Lead Data Scientist                         115190.000000\n",
       "Data Engineer                               112725.000000\n",
       "Research Scientist                          109019.500000\n",
       "Data Scientist                              108187.832168\n",
       "Computer Vision Software Engineer           105248.666667\n",
       "Staff Data Scientist                        105000.000000\n",
       "Machine Learning Engineer                   104880.146341\n",
       "Machine Learning Infrastructure Engineer    101145.000000\n",
       "Big Data Architect                           99703.000000\n",
       "Data Analyst                                 92893.061856\n",
       "Lead Data Analyst                            92203.000000\n",
       "Marketing Data Analyst                       88654.000000\n",
       "Lead Machine Learning Engineer               87932.000000\n",
       "Machine Learning Developer                   85860.666667\n",
       "Head of Machine Learning                     79039.000000\n",
       "Business Data Analyst                        76691.200000\n",
       "Data Science Engineer                        75803.333333\n",
       "BI Data Analyst                              74755.166667\n",
       "Data Science Consultant                      69420.714286\n",
       "AI Scientist                                 66135.571429\n",
       "Data Analytics Engineer                      64799.250000\n",
       "Finance Data Analyst                         61896.000000\n",
       "ETL Developer                                54957.000000\n",
       "Big Data Engineer                            51974.000000\n",
       "Computer Vision Engineer                     44419.333333\n",
       "NLP Engineer                                 37236.000000\n",
       "Product Data Analyst                         13036.000000\n",
       "3D Computer Vision Researcher                 5409.000000\n",
       "Name: salary_in_usd, dtype: float64"
      ]
     },
     "execution_count": 137,
     "metadata": {},
     "output_type": "execute_result"
    }
   ],
   "source": [
    "# Task 14: Sắp xếp các job title theo thứ tự tăng dần về thu nhập trung bình\n",
    "task14 = data.groupby(by=\"job_title\")[\"salary_in_usd\"].mean()\n",
    "task14.nlargest(len(task14))"
   ]
  },
  {
   "cell_type": "code",
   "execution_count": 240,
   "id": "9ce9c5a2-eb2a-42bf-b80c-b8237004f566",
   "metadata": {},
   "outputs": [
    {
     "name": "stdout",
     "output_type": "stream",
     "text": [
      "{'Marketing Data Analyst', 'Product Data Analyst', 'Research Scientist', 'Principal Data Scientist'}\n"
     ]
    }
   ],
   "source": [
    "# Task 15: Liệt kê những job title có mức thu nhập trung bình cao nhất ở 1 quốc gia, nhưng lại nằm trong top 3 job có thu nhập trung bình thấp nhất ở\n",
    "# 1 quốc gia khác\n",
    "\n",
    "data_task15 = data.groupby(by=[\"company_location\",\"job_title\"])[\"salary_in_usd\"].mean().unstack(0)\n",
    "\n",
    "max_job={}\n",
    "top3_job_lst={}\n",
    "for country in data_task15.columns:\n",
    "    sort_ct = data_task15[country].sort_values(ascending=False)\n",
    "    max_job[country] = sort_ct.index[0] # job cao nhất\n",
    "    top3_job_lst[country] = sort_ct.index[-3:] # top 3 job thấp nhất\n",
    "task15 = []    \n",
    "for m_ct, m_job in max_job.items():\n",
    "    for top3_ct, top3_job in top3_job_lst.items():\n",
    "        if m_ct != top3_ct and m_job in top3_job:\n",
    "            task15.append(m_job)\n",
    "            \n",
    "print(set(task15))\n",
    "\n"
   ]
  },
  {
   "cell_type": "code",
   "execution_count": null,
   "id": "595aa6b4-e464-4736-b97b-d64cc5de9977",
   "metadata": {},
   "outputs": [],
   "source": []
  }
 ],
 "metadata": {
  "kernelspec": {
   "display_name": "Python 3 (ipykernel)",
   "language": "python",
   "name": "python3"
  },
  "language_info": {
   "codemirror_mode": {
    "name": "ipython",
    "version": 3
   },
   "file_extension": ".py",
   "mimetype": "text/x-python",
   "name": "python",
   "nbconvert_exporter": "python",
   "pygments_lexer": "ipython3",
   "version": "3.12.4"
  }
 },
 "nbformat": 4,
 "nbformat_minor": 5
}
